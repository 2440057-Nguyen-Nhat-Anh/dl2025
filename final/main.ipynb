{
 "cells": [
  {
   "cell_type": "code",
   "execution_count": 283,
   "id": "52f16189",
   "metadata": {},
   "outputs": [],
   "source": [
    "import math\n",
    "import random\n",
    "import matplotlib.pyplot as plt\n",
    "from PIL import Image"
   ]
  },
  {
   "cell_type": "code",
   "execution_count": 284,
   "id": "4854c97f",
   "metadata": {},
   "outputs": [],
   "source": [
    "def load_config(path):\n",
    "    config = {}\n",
    "    with open(path, \"r\") as f:\n",
    "        for line in f:\n",
    "            if \"=\" in line:\n",
    "                k, v = line.strip().split(\"=\")\n",
    "                config[k] = int(v)\n",
    "    return config"
   ]
  },
  {
   "cell_type": "code",
   "execution_count": 285,
   "id": "561f572d",
   "metadata": {},
   "outputs": [],
   "source": [
    "def relu(x):\n",
    "    return max(0.0, x)\n",
    "\n",
    "\n",
    "def relu_derivative(x):\n",
    "    return 1.0 if x > 0 else 0.0\n",
    "\n",
    "\n",
    "def softmax(logits):\n",
    "    max_logit = max(logits)\n",
    "    exps = [math.exp(i - max_logit) for i in logits]\n",
    "    s = sum(exps)\n",
    "    return [j / s for j in exps]"
   ]
  },
  {
   "cell_type": "code",
   "execution_count": 286,
   "id": "72911d03",
   "metadata": {},
   "outputs": [],
   "source": [
    "def conv2d(image, kernel):\n",
    "    h, w = len(image), len(image[0])\n",
    "    kh, kw = len(kernel), len(kernel[0])\n",
    "    out_h, out_w = h - kh + 1, w - kw + 1\n",
    "    output = []\n",
    "    for i in range(out_h):\n",
    "        row = []\n",
    "        for j in range(out_w):\n",
    "            val = 0.0\n",
    "            for ki in range(kh):\n",
    "                for kj in range(kw):\n",
    "                    val += image[i + ki][j + kj] * kernel[ki][kj]\n",
    "            row.append(val)\n",
    "        output.append(row)\n",
    "    return output\n",
    "\n",
    "\n",
    "def max_pool2d(image, size):\n",
    "    h, w = len(image), len(image[0])\n",
    "    output = []\n",
    "    for i in range(0, h, size):\n",
    "        row = []\n",
    "        for j in range(0, w, size):\n",
    "            patch = [\n",
    "                image[i + m][j + n]\n",
    "                for m in range(size)\n",
    "                for n in range(size)\n",
    "                if i + m < h and j + n < w\n",
    "            ]\n",
    "            row.append(max(patch))\n",
    "        output.append(row)\n",
    "    return output\n",
    "\n",
    "\n",
    "def flatten(image):\n",
    "    return [pixel for row in image for pixel in row]\n",
    "\n",
    "\n",
    "def dense_forward(inputs, weights, biases):\n",
    "    output = []\n",
    "    for j in range(len(biases)):\n",
    "        s = sum(inputs[i] * weights[i][j]\n",
    "            for i in range(len(inputs))) + biases[j]\n",
    "        output.append(s)\n",
    "    return output"
   ]
  },
  {
   "cell_type": "code",
   "execution_count": 287,
   "id": "82ce9ffb",
   "metadata": {},
   "outputs": [],
   "source": [
    "def cross_entropy(probs, label):\n",
    "    return -math.log(probs[label] + 1e-9)\n",
    "\n",
    "\n",
    "def gradient(probs, label):\n",
    "    num_classes = len(probs)\n",
    "    y = [0.0] * num_classes\n",
    "    y[label] = 1.0\n",
    "\n",
    "    grad = [0.0] * num_classes\n",
    "\n",
    "    for i in range(num_classes):\n",
    "        for j in range(num_classes):\n",
    "            dL_dp = -y[j] / (probs[j] + 1e-9)\n",
    "            if i == j:\n",
    "                dp_dz = probs[j] * (1 - probs[j])\n",
    "            else:\n",
    "                dp_dz = -probs[i] * probs[j]\n",
    "            grad[i] += dL_dp * dp_dz\n",
    "\n",
    "    return grad"
   ]
  },
  {
   "cell_type": "code",
   "execution_count": 288,
   "id": "240d0817",
   "metadata": {},
   "outputs": [],
   "source": [
    "def update_dense(inputs, weights, biases, grad_output, lr):\n",
    "    for i in range(len(inputs)):\n",
    "        for j in range(len(grad_output)):\n",
    "            weights[i][j] -= lr * inputs[i] * grad_output[j]\n",
    "    for j in range(len(grad_output)):\n",
    "        biases[j] -= lr * grad_output[j]"
   ]
  },
  {
   "cell_type": "code",
   "execution_count": 289,
   "id": "aae3c777",
   "metadata": {},
   "outputs": [],
   "source": [
    "class CNN:\n",
    "    def __init__(self, config_path):\n",
    "        self.config = load_config(config_path)\n",
    "        self.kernel = self.init_kernel(self.config[\"conv1_kernel\"])\n",
    "        self.pool_size = self.config[\"pooling_size\"]\n",
    "        self.losses = []\n",
    "        conv_out = self.config[\"input_size\"] - self.config[\"conv1_kernel\"] + 1\n",
    "        pooled = conv_out // self.pool_size\n",
    "        flat_size = pooled * pooled\n",
    "        self.dense_weights = [[random.uniform(-0.05, 0.05) for _ in range(\n",
    "            self.config[\"dense_units\"])] for _ in range(flat_size)]\n",
    "        self.dense_biases = [0.0 for _ in range(self.config[\"dense_units\"])]\n",
    "\n",
    "    def init_kernel(self, size):\n",
    "        return [[random.uniform(-1, 1) for _ in range(size)] for _ in range(size)]\n",
    "\n",
    "    def forward(self, image):\n",
    "        x = conv2d(image, self.kernel)\n",
    "        x = [[relu(v) for v in row] for row in x]\n",
    "        x = max_pool2d(x, self.pool_size)\n",
    "        flat = flatten(x)\n",
    "        logits = dense_forward(flat, self.dense_weights, self.dense_biases)\n",
    "        return softmax(logits)\n",
    "\n",
    "    def predict(self, image):\n",
    "        probs = self.forward(image)\n",
    "        return probs.index(max(probs))\n",
    "\n",
    "    def train(self, images, labels, epochs, lr):\n",
    "        for epoch in range(epochs):\n",
    "            total_loss = 0.0\n",
    "            for img, label in zip(images, labels):\n",
    "                x = conv2d(img, self.kernel)\n",
    "                x = [[relu(v) for v in row] for row in x]\n",
    "                x = max_pool2d(x, self.pool_size)\n",
    "                flat = flatten(x)\n",
    "                logits = dense_forward(\n",
    "                    flat, self.dense_weights, self.dense_biases)\n",
    "                probs = softmax(logits)\n",
    "\n",
    "                loss = cross_entropy(probs, label)\n",
    "                total_loss += loss\n",
    "\n",
    "                grad = gradient(probs, label)\n",
    "                update_dense(flat, self.dense_weights,\n",
    "                             self.dense_biases, grad, lr)\n",
    "\n",
    "            self.losses.append(total_loss)\n",
    "            if ((epoch+1) % 10 == 0):\n",
    "                print(f\"Epoch {epoch+1}: Loss = {total_loss:.4f}\")\n",
    "\n",
    "    def plotLossValue(self):\n",
    "        plt.plot(range(1, len(self.losses)+1), self.losses)\n",
    "        plt.xlabel(\"Epoch\")\n",
    "        plt.ylabel(\"Loss\")\n",
    "        plt.title(\"Training Loss Over Epochs\")\n",
    "        plt.grid()\n",
    "        plt.show()"
   ]
  },
  {
   "cell_type": "code",
   "execution_count": 290,
   "id": "2680d8fd",
   "metadata": {},
   "outputs": [],
   "source": [
    "def normalize(base_path, num_classes, samples_per_class, size=28):\n",
    "    images = []\n",
    "    labels = []\n",
    "    for label in range(num_classes):\n",
    "        for i in range(samples_per_class):\n",
    "            filename = f\"{base_path}/{label}/{i}.png\"\n",
    "            try:\n",
    "                img = Image.open(filename).convert(\"L\")\n",
    "                img = img.resize((size, size))\n",
    "                pixels = list(img.getdata())\n",
    "                pixels = [p / 255.0 for p in pixels]\n",
    "                matrix = [pixels[j*size:(j+1)*size] for j in range(size)]\n",
    "                images.append(matrix)\n",
    "                labels.append(label)\n",
    "            except:\n",
    "                pass\n",
    "    return images, labels\n"
   ]
  },
  {
   "cell_type": "code",
   "execution_count": 291,
   "id": "cdfba275",
   "metadata": {},
   "outputs": [],
   "source": [
    "def show_image(img, label):\n",
    "    plt.imshow(img, cmap='gray')\n",
    "    plt.title(label)\n",
    "    plt.axis(\"off\")\n",
    "    plt.show()"
   ]
  },
  {
   "cell_type": "code",
   "execution_count": 296,
   "id": "29d78fdf",
   "metadata": {},
   "outputs": [
    {
     "data": {
      "image/png": "[encoded data removed]",
      "text/plain": [
       "<Figure size 1000x500 with 10 Axes>"
      ]
     },
     "metadata": {},
     "output_type": "display_data"
    },
    {
     "name": "stdout",
     "output_type": "stream",
     "text": [
      "Epoch 10: Loss = 24.3245\n",
      "Epoch 20: Loss = 11.3777\n",
      "Epoch 30: Loss = 6.1811\n",
      "Epoch 40: Loss = 4.0446\n",
      "Epoch 50: Loss = 3.0169\n",
      "Epoch 60: Loss = 2.4203\n",
      "Epoch 70: Loss = 2.0288\n",
      "Epoch 80: Loss = 1.7508\n",
      "Epoch 90: Loss = 1.5425\n",
      "Epoch 100: Loss = 1.3801\n"
     ]
    },
    {
     "data": {
      "image/png": "[encoded data removed]",
      "text/plain": [
       "<Figure size 640x480 with 1 Axes>"
      ]
     },
     "metadata": {},
     "output_type": "display_data"
    }
   ],
   "source": [
    "images, labels = normalize(\n",
    "    \"data/train\", num_classes=10, samples_per_class=20)\n",
    "fig, axes = plt.subplots(2, 5, figsize=(10, 5))\n",
    "fig.suptitle(\"Training Images\", fontsize=16)\n",
    "\n",
    "shown = [False] * 10\n",
    "count = 0\n",
    "\n",
    "for idx, (img, label) in enumerate(zip(images, labels)):\n",
    "    if not shown[label]:\n",
    "        ax = axes[count // 5][count % 5]\n",
    "        ax.imshow(img, cmap='gray')\n",
    "        ax.set_title(label)\n",
    "        ax.axis(\"off\")\n",
    "        shown[label] = True\n",
    "        count += 1\n",
    "    if count == 100:\n",
    "        break\n",
    "\n",
    "plt.tight_layout()\n",
    "plt.show()\n",
    "\n",
    "model = CNN(\"config.txt\")\n",
    "\n",
    "model.train(images, labels, epochs=100, lr=0.1)\n",
    "model.plotLossValue()"
   ]
  },
  {
   "cell_type": "code",
   "execution_count": 297,
   "id": "0115d60a",
   "metadata": {},
   "outputs": [
    {
     "name": "stdout",
     "output_type": "stream",
     "text": [
      "Accuracy: 78.75%\n"
     ]
    }
   ],
   "source": [
    "testImgs, testLabels = normalize(\"data/test\", num_classes=10, samples_per_class=24)\n",
    "correct_predictions = 0\n",
    "total_predictions = len(testImgs)\n",
    "\n",
    "for i in range(total_predictions):\n",
    "    predicted_label = model.predict(testImgs[i])\n",
    "    true_label = testLabels[i]\n",
    "\n",
    "    if predicted_label == true_label:\n",
    "        correct_predictions += 1\n",
    "\n",
    "accuracy = correct_predictions / total_predictions\n",
    "print(f\"Accuracy: {accuracy * 100:.2f}%\")"
   ]
  },
  {
   "cell_type": "code",
   "execution_count": 294,
   "id": "5996bc75",
   "metadata": {},
   "outputs": [
    {
     "data": {
      "image/png": "[encoded data removed]",
      "text/plain": [
       "<Figure size 640x480 with 1 Axes>"
      ]
     },
     "metadata": {},
     "output_type": "display_data"
    },
    {
     "name": "stdout",
     "output_type": "stream",
     "text": [
      "Predict 5\n"
     ]
    },
    {
     "data": {
      "image/png": "[encoded data removed]",
      "text/plain": [
       "<Figure size 640x480 with 1 Axes>"
      ]
     },
     "metadata": {},
     "output_type": "display_data"
    },
    {
     "name": "stdout",
     "output_type": "stream",
     "text": [
      "Predict: 5\n"
     ]
    }
   ],
   "source": [
    "testImgs, testLabels = normalize(\"data/test\", num_classes=10, samples_per_class=5)\n",
    "img1 = random.randint(0, len(testImgs) - 1)\n",
    "img2 = random.randint(0, len(testImgs) - 1)\n",
    "\n",
    "show_image(testImgs[img1], testLabels[img1])\n",
    "print(\"Predict\", model.predict(testImgs[img1]))\n",
    "\n",
    "show_image(testImgs[img2], testLabels[img2])\n",
    "print(\"Predict:\", model.predict(testImgs[img2]))"
   ]
  }
 ],
 "metadata": {
  "kernelspec": {
   "display_name": "dl",
   "language": "python",
   "name": "python3"
  },
  "language_info": {
   "codemirror_mode": {
    "name": "ipython",
    "version": 3
   },
   "file_extension": ".py",
   "mimetype": "text/x-python",
   "name": "python",
   "nbconvert_exporter": "python",
   "pygments_lexer": "ipython3",
   "version": "3.11.11"
  }
 },
 "nbformat": 4,
 "nbformat_minor": 5
}
